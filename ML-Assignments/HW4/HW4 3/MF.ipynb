{
 "cells": [
  {
   "cell_type": "code",
   "execution_count": 2,
   "metadata": {},
   "outputs": [
    {
     "name": "stdout",
     "output_type": "stream",
     "text": [
      "Factorizing with  943  users,  1682  movies.\n"
     ]
    },
    {
     "data": {
      "image/png": "[encoded data removed]",
      "text/plain": [
       "<Figure size 432x288 with 1 Axes>"
      ]
     },
     "metadata": {},
     "output_type": "display_data"
    }
   ],
   "source": [
    "# Matrix factorization code\n",
    "# CSCI 6140 HW4\n",
    "\n",
    "import numpy as np\n",
    "import matplotlib.pyplot as plt\n",
    "from prob2utils_skeleton import train_model, get_err\n",
    "\t\t\n",
    "def main():\n",
    "    Y_train = np.loadtxt('/Users/ruchitha/Desktop/ML-Assignments/HW4/HW4 3/train.txt').astype(int)\n",
    "    Y_test = np.loadtxt('/Users/ruchitha/Desktop/ML-Assignments/HW4/HW4 3/test.txt').astype(int)\n",
    "\t\n",
    "    M = max(max(Y_train[:,0]), max(Y_test[:,0])).astype(int) # users\n",
    "    N = max(max(Y_train[:,1]), max(Y_test[:,1])).astype(int) # movies\n",
    "    print(\"Factorizing with \", M, \" users, \", N, \" movies.\")\n",
    "    Ks = [10,20,30,50,100]\n",
    "\t\n",
    "    reg = 0.0\n",
    "    eta = 0.03 # learning rate\n",
    "    E_in = []\n",
    "    E_out = []\n",
    "\t\n",
    "    # Use to compute Ein and Eout\n",
    "    for K in Ks:\n",
    "        U,V, err = train_model(M, N, K, eta, reg, Y_train)\n",
    "        E_in.append(err)\n",
    "        E_out.append(get_err(U, V, Y_test))\n",
    "\t\n",
    "    plt.plot(Ks, E_in, label='$E_{in}$')\n",
    "    plt.plot(Ks, E_out, label='$E_{out}$')\n",
    "    plt.title('Error vs. K')\n",
    "    plt.xlabel('K')\n",
    "    plt.ylabel('Error')\n",
    "    plt.legend()\n",
    "    plt.savefig('2d.png')\t\n",
    "\n",
    "   \n",
    "\n",
    "if __name__ == \"__main__\":\n",
    "    main()\n",
    "\n"
   ]
  },
  {
   "cell_type": "code",
   "execution_count": null,
   "metadata": {},
   "outputs": [],
   "source": []
  },
  {
   "cell_type": "code",
   "execution_count": null,
   "metadata": {},
   "outputs": [],
   "source": []
  }
 ],
 "metadata": {
  "kernelspec": {
   "display_name": "Python 3",
   "language": "python",
   "name": "python3"
  },
  "language_info": {
   "codemirror_mode": {
    "name": "ipython",
    "version": 3
   },
   "file_extension": ".py",
   "mimetype": "text/x-python",
   "name": "python",
   "nbconvert_exporter": "python",
   "pygments_lexer": "ipython3",
   "version": "3.6.5"
  }
 },
 "nbformat": 4,
 "nbformat_minor": 2
}
